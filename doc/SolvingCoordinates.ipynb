{
 "cells": [
  {
   "cell_type": "markdown",
   "metadata": {},
   "source": [
    "$$ \\text {The point } P \\binom{x_p}{y_p} \\text {is in the triangle } P_0\\binom{x_0}{y_0}, P_1\\binom{x_1}{y_1}, P_2 \\binom{x_2}{y_2}. $$\n"
   ]
  },
  {
   "cell_type": "markdown",
   "metadata": {},
   "source": [
    "$$\\text{Based on (x, y) screen coordinates of each point } P, P_0, P_1, P_2,\\text{ we need to determinate the coordinates (column and line) of the pixel corresponding to P in the original image. It is basically :}$$\n",
    "$$P_c = \\frac{\\|\\vec{P_0 A}\\|} {\\|\\vec{P_0 P_1}\\|} \\cdot IMAGE\\_WIDTH$$\n",
    "$$P_l = \\frac{\\|\\vec{P_0 B}\\|} {\\|\\vec{P_0 P_2}\\|} \\cdot IMAGE\\_HEIGHT$$"
   ]
  },
  {
   "cell_type": "markdown",
   "metadata": {},
   "source": [
    "$$\\text{Multiplications by IMAGE_WIDTH and IMAGE_HEIGHT are multiplication by constant values so they can be putted in lookup tables} $$"
   ]
  },
  {
   "cell_type": "markdown",
   "metadata": {},
   "source": [
    "$$\\text{Terms} \\|\\vec{P_0 P_1}\\| \\text{and} \\|\\vec{P_0 P_2}\\| \\text{ are of the form } \\sqrt{{\\Delta X}^2+{\\Delta Y}^2} \\\\ \\text{ and I have already developped a 6502 assembly routine that can compute this euclidian norm in around 100 cpu cycles.}$$"
   ]
  },
  {
   "cell_type": "markdown",
   "metadata": {},
   "source": [
    "$$\\text{There remain to determinate position of point A and B.}$$\n",
    "$$\\text{To do so, I first use parametric expression of various involved lines in polar coordinate system :}$$\n",
    "$$l_1 \\begin{cases} x=x_0 + r_1 \\cdot cos (\\alpha) \\\\ y=y_0 + r_1 \\cdot sin (\\alpha) \\end{cases}$$\n",
    "$$l_2 \\begin{cases} x=x_0 + r_2 \\cdot cos (\\beta) \\\\ y=y_0 + r_2 \\cdot sin (\\beta) \\end{cases}$$\n",
    "$$l_1' \\begin{cases} x=x_p + r_1' \\cdot cos (\\alpha) \\\\ y=y_p + r_1' \\cdot sin (\\alpha) \\end{cases}$$\n",
    "$$l_2' \\begin{cases} x=x_p + r_2' \\cdot cos (\\beta) \\\\ y=y_p + r_2' \\cdot sin (\\beta) \\end{cases}$$"
   ]
  },
  {
   "cell_type": "markdown",
   "metadata": {},
   "source": [
    "$$\\text{with:}$$\n",
    "$$\\alpha = atan2(y_1-y_0, x_1-x_0)$$\n",
    "$$\\beta = atan2(y_2-y_0, x_2-x_0)$$"
   ]
  },
  {
   "cell_type": "markdown",
   "metadata": {},
   "source": [
    "$$\\text{I use this approach because I've already got an atan2 routine in  6502 assembly which needs less than 100 cycles to compute the angle.}$$\n",
    "$$\\text{Moreover, sine and cosine can easily be precalculated in lookup tables.}$$"
   ]
  },
  {
   "cell_type": "markdown",
   "metadata": {},
   "source": [
    "$$\\text{From here we can compute the A point by finding the intersection of lines } l_1 \\text{ and } l_2'$$\n",
    "$$A=l_1 \\cap l_2'$$\n",
    "$$\\text{This is done by solving the following 2-equation system with 2 unknown}$$\n",
    "$$\\begin{cases}\n",
    "x_0+r_1 \\cdot cos(\\alpha) = x_p + r_2' \\cdot cos (\\beta) (1)\\\\ \n",
    "y_0 + r_1 \\cdot sin(\\alpha) = y_p + r_2' \\cdot sin (\\beta) (2)\n",
    "\\end{cases}$$"
   ]
  },
  {
   "cell_type": "markdown",
   "metadata": {},
   "source": [
    "$$\\text{A simple linear combination of equation (1) and (2) makes } r_1 \\text{ vanish from the system}$$\n",
    "$$sin(\\alpha) \\cdot (1) - cos(\\alpha) \\cdot (2) \\Leftrightarrow  \\boxed{r_2' = \\frac {sin(\\alpha) \\cdot (x_0 - x_p) - cos(\\alpha) \\cdot (y_0 - y_p)}{sin(\\alpha) \\cdot cos(\\beta) - cos(\\alpha) \\cdot sin(\\beta)}}$$"
   ]
  },
  {
   "cell_type": "markdown",
   "metadata": {},
   "source": [
    "$$\\text{Similarly, it is possible to compute the B point as the intersection of lines } l_2 \\text{ and } l_1'$$\n",
    "$$B=l_2 \\cap l_1'$$\n",
    "$$\\text{by solving the following system:}$$\n",
    "$$\\begin{cases}\n",
    "x_0 + r_2 \\cdot cos(\\beta) = x_p + r_1' \\cdot cos (\\alpha) \\\\ \n",
    "y_0 + r_2 \\cdot sin(\\beta) = y_p + r_1' \\cdot sin (\\alpha) \n",
    "\\end{cases}$$"
   ]
  },
  {
   "cell_type": "markdown",
   "metadata": {},
   "source": [
    "$$\\text{which lead to isolate } \\boxed{r_1' = \\frac {sin(\\beta) \\cdot (x_0 - x_p) - cos(\\beta) \\cdot (y_0 - y_p)}{cos(\\alpha) \\cdot sin(\\beta) - sin(\\alpha) \\cdot cos(\\beta)}}$$"
   ]
  },
  {
   "cell_type": "code",
   "execution_count": null,
   "metadata": {},
   "outputs": [],
   "source": []
  }
 ],
 "metadata": {
  "kernelspec": {
   "display_name": "Python 3",
   "language": "python",
   "name": "python3"
  },
  "language_info": {
   "codemirror_mode": {
    "name": "ipython",
    "version": 3
   },
   "file_extension": ".py",
   "mimetype": "text/x-python",
   "name": "python",
   "nbconvert_exporter": "python",
   "pygments_lexer": "ipython3",
   "version": "3.7.6"
  }
 },
 "nbformat": 4,
 "nbformat_minor": 4
}
